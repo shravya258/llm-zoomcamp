{
 "cells": [
  {
   "cell_type": "markdown",
   "id": "6c83e785-b6f6-4211-a3d8-301fc993c885",
   "metadata": {},
   "source": [
    "Question 1\n",
    "Running Elastic Search 8.17.6\n",
    "Running this in Visual Studio Code\n",
    "docker run -it \\\n",
    "    --rm \\\n",
    "    --name elasticsearch \\\n",
    "    -m 4GB \\\n",
    "    -p 9200:9200 \\\n",
    "    -p 9300:9300 \\\n",
    "    -e \"discovery.type=single-node\" \\\n",
    "    -e \"xpack.security.enabled=false\" \\\n",
    "    docker.elastic.co/elasticsearch/elasticsearch:8.17.6"
   ]
  },
  {
   "cell_type": "markdown",
   "id": "80eb1718-f044-4885-966a-16d0e21fa184",
   "metadata": {},
   "source": [
    "Question 2"
   ]
  },
  {
   "cell_type": "code",
   "execution_count": 101,
   "id": "c4a82cbd-db23-426f-af66-eba2936b12e4",
   "metadata": {},
   "outputs": [],
   "source": [
    "import requests \n",
    "\n",
    "docs_url = 'https://github.com/DataTalksClub/llm-zoomcamp/blob/main/01-intro/documents.json?raw=1'\n",
    "docs_response = requests.get(docs_url)\n",
    "documents_raw = docs_response.json()\n",
    "\n",
    "documents = []\n",
    "\n",
    "for course in documents_raw:\n",
    "    course_name = course['course']\n",
    "\n",
    "    for doc in course['documents']:\n",
    "        doc['course'] = course_name\n",
    "        documents.append(doc)"
   ]
  },
  {
   "cell_type": "code",
   "execution_count": 102,
   "id": "bbf7f18d-95a1-4a91-8aa3-3207870f8a2f",
   "metadata": {},
   "outputs": [
    {
     "name": "stdout",
     "output_type": "stream",
     "text": [
      "Elasticsearch version: 8.17.6\n"
     ]
    }
   ],
   "source": [
    "import elasticsearch\n",
    "from elasticsearch import Elasticsearch\n",
    "es_client = Elasticsearch(\"http://localhost:9200\")\n",
    "info = es_client.info()\n",
    "print(\"Elasticsearch version:\", info['version']['number'])"
   ]
  },
  {
   "cell_type": "code",
   "execution_count": 103,
   "id": "8373f295-ded1-47bc-ad0d-8b21852e2dc8",
   "metadata": {},
   "outputs": [
    {
     "name": "stderr",
     "output_type": "stream",
     "text": [
      "/tmp/ipykernel_6213/2215345132.py:18: DeprecationWarning: The 'body' parameter is deprecated and will be removed in a future version. Instead use individual parameters.\n",
      "  es_client.indices.create(\n"
     ]
    },
    {
     "data": {
      "text/plain": [
       "ObjectApiResponse({'acknowledged': True, 'shards_acknowledged': True, 'index': 'course-questions'})"
      ]
     },
     "execution_count": 103,
     "metadata": {},
     "output_type": "execute_result"
    }
   ],
   "source": [
    "index_settings ={\n",
    "    \"settings\": {\n",
    "        \"number_of_shards\": 1,\n",
    "        \"number_of_replicas\": 0\n",
    "    },\n",
    "    \"mappings\": {\n",
    "        \"properties\": {\n",
    "            \"text\": {\"type\": \"text\"},\n",
    "            \"section\": {\"type\": \"text\"},\n",
    "            \"question\": {\"type\": \"text\"},\n",
    "            \"course\": {\"type\": \"keyword\"} \n",
    "        }\n",
    "    }\n",
    "}\n",
    "if es_client.indices.exists(index=\"course-questions\"):\n",
    "    es_client.indices.delete(index=\"course-questions\")\n",
    "index_name = \"course-questions\"\n",
    "es_client.indices.create(\n",
    "    index=index_name,\n",
    "    body=index_settings\n",
    ")"
   ]
  },
  {
   "cell_type": "code",
   "execution_count": 104,
   "id": "416e1ae8-e2fe-415c-a81d-5dd5c382b9f0",
   "metadata": {},
   "outputs": [
    {
     "name": "stderr",
     "output_type": "stream",
     "text": [
      "100%|██████████████████████████████████████████████████████████████████████████████████████████████████████████████████████████████████████████████| 948/948 [00:02<00:00, 344.75it/s]\n"
     ]
    }
   ],
   "source": [
    "from tqdm.auto import tqdm\n",
    "for doc in tqdm(documents):\n",
    "    es_client.index(index=index_name, document=doc)"
   ]
  },
  {
   "cell_type": "markdown",
   "id": "3aa8b39f-7be6-4e9b-9a89-0834f1986838",
   "metadata": {},
   "source": [
    "Question 3"
   ]
  },
  {
   "cell_type": "code",
   "execution_count": 135,
   "id": "1aa490c3-5e27-46a6-8f08-393ce135b0d3",
   "metadata": {},
   "outputs": [],
   "source": [
    "def elastic_search(query, course):\n",
    "    #Search query\n",
    "    search_query = {\n",
    "        \"size\": 5,\n",
    "        \"query\": {\n",
    "            \"bool\": {\n",
    "                \"must\": {\n",
    "                    \"multi_match\": {\n",
    "                        \"query\": query,\n",
    "                        \"fields\": [\"question^4\", \"text\"],\n",
    "                        \"type\": \"best_fields\"\n",
    "                    }\n",
    "                },\n",
    "               \n",
    "            }\n",
    "        }\n",
    "    }\n",
    "    \n",
    "    #response from elastic search\n",
    "    response = es_client.search(\n",
    "        index=index_name,\n",
    "        body=search_query\n",
    "    )\n",
    "    \n",
    "    #Let's print the response's top ranking result\n",
    "    top_score = response['hits']['hits'][0]['_score']\n",
    "    return top_score"
   ]
  },
  {
   "cell_type": "code",
   "execution_count": 136,
   "id": "9108a41a-e88e-4e4b-8a3d-0f6edbb0f167",
   "metadata": {},
   "outputs": [
    {
     "name": "stdout",
     "output_type": "stream",
     "text": [
      "For query How do execute a command on a Kubernetes pod? the top score is: 44.50556\n"
     ]
    },
    {
     "name": "stderr",
     "output_type": "stream",
     "text": [
      "/tmp/ipykernel_6213/2227997108.py:20: DeprecationWarning: The 'body' parameter is deprecated and will be removed in a future version. Instead use individual parameters.\n",
      "  response = es_client.search(\n"
     ]
    }
   ],
   "source": [
    "#Running this query 'How do execute a command on a Kubernetes pod?'\n",
    "query = 'How do execute a command on a Kubernetes pod?'\n",
    "course = \"machine-learning-zoomcamp\"\n",
    "score = elastic_search(query, course)\n",
    "print('For query', query, 'the top score is:', score)"
   ]
  },
  {
   "cell_type": "markdown",
   "id": "f007a976-7046-4ad6-a657-e08095937561",
   "metadata": {},
   "source": [
    "Question 4"
   ]
  },
  {
   "cell_type": "code",
   "execution_count": 107,
   "id": "5a9f8470-3be6-4d6e-8337-2806c4037a1b",
   "metadata": {},
   "outputs": [
    {
     "name": "stdout",
     "output_type": "stream",
     "text": [
      "For query How do copy a file to a Docker container? the top score is: 73.38676\n"
     ]
    },
    {
     "name": "stderr",
     "output_type": "stream",
     "text": [
      "/tmp/ipykernel_6213/4215983962.py:24: DeprecationWarning: The 'body' parameter is deprecated and will be removed in a future version. Instead use individual parameters.\n",
      "  response = es_client.search(\n"
     ]
    }
   ],
   "source": [
    "#Running this query 'How do I copy a file to a Docker container?' with machine-learning-zoomcamp as the filter\n",
    "query = 'How do copy a file to a Docker container?'\n",
    "course = 'machine-learning-zoomcamp'\n",
    "score = elastic_search(query,course)\n",
    "print('For query', query, 'the top score is:', score)"
   ]
  },
  {
   "cell_type": "code",
   "execution_count": 108,
   "id": "e568d5c3-af4f-4ad6-9185-959349263861",
   "metadata": {},
   "outputs": [],
   "source": [
    "def elastic_search(query):\n",
    "    #Search query\n",
    "    search_query = {\n",
    "        \"size\": 3,\n",
    "        \"query\": {\n",
    "            \"bool\": {\n",
    "                \"must\": {\n",
    "                    \"multi_match\": {\n",
    "                        \"query\": query,\n",
    "                        \"fields\": [\"question^4\", \"text\"],\n",
    "                        \"type\": \"best_fields\"\n",
    "                    }\n",
    "                },\n",
    "                \"filter\": {\n",
    "                    \"term\": {\n",
    "                        \"course\": 'machine-learning-zoomcamp'\n",
    "                    }\n",
    "                }\n",
    "            }\n",
    "        }\n",
    "    }\n",
    "    \n",
    "    #response from elastic search\n",
    "    response = es_client.search(\n",
    "        index=index_name,\n",
    "        body=search_query\n",
    "    )\n",
    "    \n",
    "    #Let's print the response's third question\n",
    "    hits = response['hits']['hits']\n",
    "    third_question = hits[2]['_source']['question']\n",
    "    return third_question"
   ]
  },
  {
   "cell_type": "code",
   "execution_count": 122,
   "id": "06b1c6b0-68d2-4e04-92c6-39a6cc21a3c7",
   "metadata": {},
   "outputs": [
    {
     "name": "stdout",
     "output_type": "stream",
     "text": [
      "The 3rd question returned by the search engine for How do copy a file to a Docker container? is: How do I copy files from a different folder into docker container’s working directory?\n"
     ]
    },
    {
     "name": "stderr",
     "output_type": "stream",
     "text": [
      "/tmp/ipykernel_6213/1759229725.py:24: DeprecationWarning: The 'body' parameter is deprecated and will be removed in a future version. Instead use individual parameters.\n",
      "  response = es_client.search(\n"
     ]
    }
   ],
   "source": [
    "query = 'How do copy a file to a Docker container?'\n",
    "result = elastic_search(query)\n",
    "print('The 3rd question returned by the search engine for', query, 'is:', result)"
   ]
  },
  {
   "cell_type": "markdown",
   "id": "30fdf884-532e-44ea-acbe-cbd2246b6c5b",
   "metadata": {},
   "source": [
    "Question 5"
   ]
  },
  {
   "cell_type": "code",
   "execution_count": 123,
   "id": "2e1ecf22-1708-43cf-a3c0-402676ca02c7",
   "metadata": {},
   "outputs": [],
   "source": [
    "context_template = \"\"\"\n",
    "Q: {question}\n",
    "A: {text}\n",
    "\"\"\".strip()"
   ]
  },
  {
   "cell_type": "code",
   "execution_count": 124,
   "id": "cff6f130-eb76-494a-9e0a-01389a57e227",
   "metadata": {},
   "outputs": [],
   "source": [
    "prompt_template = \"\"\"\n",
    "You're a course teaching assistant. Answer the QUESTION based on the CONTEXT from the FAQ database.\n",
    "Use only the facts from the CONTEXT when answering the QUESTION.\n",
    "\n",
    "QUESTION: {question}\n",
    "\n",
    "CONTEXT:\n",
    "{context}\n",
    "\"\"\".strip()"
   ]
  },
  {
   "cell_type": "code",
   "execution_count": 125,
   "id": "bd7b093e-4337-407a-913e-5e53b06ab86c",
   "metadata": {},
   "outputs": [],
   "source": [
    "from openai import OpenAI\n",
    "import os\n",
    "client = OpenAI(api_key = os.getenv(\"OPENAI_API_KEY\"))"
   ]
  },
  {
   "cell_type": "code",
   "execution_count": 126,
   "id": "758849d6-d058-40bc-b25d-7dca83c0ee03",
   "metadata": {},
   "outputs": [],
   "source": [
    "def prompt(query):\n",
    "    search_query = {\n",
    "            \"size\": 3,\n",
    "            \"query\": {\n",
    "                \"bool\": {\n",
    "                    \"must\": {\n",
    "                        \"multi_match\": {\n",
    "                            \"query\": query,\n",
    "                            \"fields\": [\"question^4\", \"text\"],\n",
    "                            \"type\": \"best_fields\"\n",
    "                        }\n",
    "                    },\n",
    "                    \"filter\": {\n",
    "                        \"term\": {\n",
    "                            \"course\": 'machine-learning-zoomcamp'\n",
    "                        }\n",
    "                    }\n",
    "                }\n",
    "            }\n",
    "        }\n",
    "        \n",
    "    #response from elastic search\n",
    "    response = es_client.search(\n",
    "        index=index_name,\n",
    "        body=search_query\n",
    "    )\n",
    "    #Given the prompt and context template we are constructing a prompt\n",
    "    context = \"\"\n",
    "    for doc in response['hits']['hits']:\n",
    "        source = doc['_source']\n",
    "        context += context_template.format(\n",
    "            question=source.get('question', ''),\n",
    "            text=source.get('text', '')\n",
    "        ) + \"\\n\\n\"  # two line breaks between entries\n",
    "\n",
    "    prompt = prompt_template.format(question=query, context=context).strip()\n",
    "    return prompt, len(prompt)"
   ]
  },
  {
   "cell_type": "code",
   "execution_count": 127,
   "id": "91e3d462-45a8-43dc-9835-6cd12ab117ad",
   "metadata": {},
   "outputs": [
    {
     "name": "stdout",
     "output_type": "stream",
     "text": [
      "This is the prompt generated\n",
      "You're a course teaching assistant. Answer the QUESTION based on the CONTEXT from the FAQ database.\n",
      "Use only the facts from the CONTEXT when answering the QUESTION.\n",
      "\n",
      "QUESTION: How do copy a file to a Docker container?\n",
      "\n",
      "CONTEXT:\n",
      "Q: How do I debug a docker container?\n",
      "A: Launch the container image in interactive mode and overriding the entrypoint, so that it starts a bash command.\n",
      "docker run -it --entrypoint bash <image>\n",
      "If the container is already running, execute a command in the specific container:\n",
      "docker ps (find the container-id)\n",
      "docker exec -it <container-id> bash\n",
      "(Marcos MJD)\n",
      "\n",
      "Q: How do I copy files from my local machine to docker container?\n",
      "A: You can copy files from your local machine into a Docker container using the docker cp command. Here's how to do it:\n",
      "To copy a file or directory from your local machine into a running Docker container, you can use the `docker cp command`. The basic syntax is as follows:\n",
      "docker cp /path/to/local/file_or_directory container_id:/path/in/container\n",
      "Hrithik Kumar Advani\n",
      "\n",
      "Q: How do I copy files from a different folder into docker container’s working directory?\n",
      "A: You can copy files from your local machine into a Docker container using the docker cp command. Here's how to do it:\n",
      "In the Dockerfile, you can provide the folder containing the files that you want to copy over. The basic syntax is as follows:\n",
      "COPY [\"src/predict.py\", \"models/xgb_model.bin\", \"./\"]\t\t\t\t\t\t\t\t\t\t\tGopakumar Gopinathan\n",
      "Length is: 1446\n"
     ]
    },
    {
     "name": "stderr",
     "output_type": "stream",
     "text": [
      "/tmp/ipykernel_6213/1461047944.py:23: DeprecationWarning: The 'body' parameter is deprecated and will be removed in a future version. Instead use individual parameters.\n",
      "  response = es_client.search(\n"
     ]
    }
   ],
   "source": [
    "query = 'How do copy a file to a Docker container?'\n",
    "prompt_generated, length = prompt(query)\n",
    "print('This is the prompt generated')\n",
    "print(prompt_generated)\n",
    "print('Length is:', length)"
   ]
  },
  {
   "cell_type": "markdown",
   "id": "e1cb05c1-a0c4-474c-a3da-488ee84096f9",
   "metadata": {},
   "source": [
    "Question 6"
   ]
  },
  {
   "cell_type": "code",
   "execution_count": 128,
   "id": "72b9de9b-2830-4605-a833-7d48df164675",
   "metadata": {},
   "outputs": [],
   "source": [
    "import tiktoken\n",
    "encoding = tiktoken.encoding_for_model(\"gpt-4o\")"
   ]
  },
  {
   "cell_type": "code",
   "execution_count": 129,
   "id": "65538ccd-f0cb-4227-b9bb-178192beaad6",
   "metadata": {},
   "outputs": [
    {
     "name": "stdout",
     "output_type": "stream",
     "text": [
      "Number of tokens in prompt: 320\n"
     ]
    }
   ],
   "source": [
    "tokens = encoding.encode(prompt_generated)\n",
    "# Print number of tokens\n",
    "print(\"Number of tokens in prompt:\", len(tokens))"
   ]
  },
  {
   "cell_type": "code",
   "execution_count": 130,
   "id": "c3e9b200-ef98-4cf3-afa0-a9b1c2aed4ca",
   "metadata": {},
   "outputs": [
    {
     "name": "stdout",
     "output_type": "stream",
     "text": [
      "How do copy a file to a Docker container?\n",
      "OpenAI gpt-4o response:  To copy a file to a Docker container, you can use the `docker cp` command. The basic syntax to copy a file or directory from your local machine into a running Docker container is as follows:\n",
      "\n",
      "```\n",
      "docker cp /path/to/local/file_or_directory container_id:/path/in/container\n",
      "```\n",
      "\n",
      "This command allows you to transfer files from your local machine into a specific location inside the container.\n"
     ]
    }
   ],
   "source": [
    "#Let us send the prompt to OpenAI\n",
    "def run_llm(prompt):\n",
    "    response = client.chat.completions.create(\n",
    "    model='gpt-4o',\n",
    "    messages=[{'role':'user', 'content':prompt}]\n",
    "    )\n",
    "    answer = response.choices[0].message.content\n",
    "    return answer\n",
    "answer = run_llm(prompt_generated)\n",
    "print(query)\n",
    "print('OpenAI gpt-4o response: ', answer)"
   ]
  }
 ],
 "metadata": {
  "kernelspec": {
   "display_name": "Python 3 (ipykernel)",
   "language": "python",
   "name": "python3"
  },
  "language_info": {
   "codemirror_mode": {
    "name": "ipython",
    "version": 3
   },
   "file_extension": ".py",
   "mimetype": "text/x-python",
   "name": "python",
   "nbconvert_exporter": "python",
   "pygments_lexer": "ipython3",
   "version": "3.12.1"
  }
 },
 "nbformat": 4,
 "nbformat_minor": 5
}
